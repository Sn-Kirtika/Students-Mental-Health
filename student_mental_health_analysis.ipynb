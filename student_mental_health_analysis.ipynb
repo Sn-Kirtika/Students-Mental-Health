{
 "cells": [
  {
   "cell_type": "markdown",
   "id": "6455987a",
   "metadata": {},
   "source": [
    "<center>\n",
    "<h1 style=\"font-weight:bold;color:#a64d79\">Student mental health : </br>Stress, factors and coping strategies</h1>\n",
    "<p>Hadoop Project | Group 11 - 3IABD2</p>\n",
    "</center>"
   ]
  },
  {
   "cell_type": "markdown",
   "id": "cd95dccd",
   "metadata": {},
   "source": [
    "<h2 style=\"font-weight:bold;color:#c27ba0\">Objectives</h2>\n",
    "\n",
    "<p>This project aims to identify the causes of stress and coping strategies through the analysis of large-scale data, using Big Data tools and machine learning techniques.</p>"
   ]
  },
  {
   "cell_type": "markdown",
   "id": "0d16bb45",
   "metadata": {},
   "source": [
    "<hr style=\"border: none; height: 0.5px; background-color: #aaa;\" />"
   ]
  },
  {
   "cell_type": "code",
   "execution_count": 166,
   "id": "3e859e91",
   "metadata": {},
   "outputs": [],
   "source": [
    "from pyspark.sql import SparkSession\n",
    "from pyspark.sql.functions import avg, stddev, min, max, col, when, count\n",
    "from pyspark.sql.types import IntegerType\n",
    "\n",
    "import matplotlib.pyplot as plt\n",
    "import seaborn as sns"
   ]
  },
  {
   "cell_type": "markdown",
   "id": "9b715f69",
   "metadata": {},
   "source": [
    "<h2 style=\"font-weight:bold;color:#c27ba0\">Dataframe creation</h2>"
   ]
  },
  {
   "cell_type": "code",
   "execution_count": 107,
   "id": "9fb7fdd5",
   "metadata": {},
   "outputs": [],
   "source": [
    "# Initialize Spark session\n",
    "spark = SparkSession.builder \\\n",
    "    .appName(\"SMHAnalysis\") \\\n",
    "    .getOrCreate()"
   ]
  },
  {
   "cell_type": "code",
   "execution_count": 142,
   "id": "5175c839",
   "metadata": {},
   "outputs": [
    {
     "name": "stdout",
     "output_type": "stream",
     "text": [
      "------------------------------------------------------------------------\n",
      "Preview of the first few rows :\n",
      "------------------------------------------------------------------------\n",
      "\n",
      "+-----------+---+------+--------------------------+--------------------+----------------------------------+--------------------------------+----------------------------------+--------------+----------------+-------------+-------------------+-------------------+---------------------+------------+------------------------+---------------------+----------------------------+-----------------+-------------+\n",
      "| Student ID|Age|Gender|Academic Performance (GPA)|Study Hours Per Week|Social Media Usage (Hours per day)|Sleep Duration (Hours per night)|Physical Exercise (Hours per week)|Family Support|Financial Stress|Peer Pressure|Relationship Stress|Mental Stress Level|Counseling Attendance|Diet Quality|Stress Coping Mechanisms|Cognitive Distortions|Family Mental Health History|Medical Condition|Substance Use|\n",
      "+-----------+---+------+--------------------------+--------------------+----------------------------------+--------------------------------+----------------------------------+--------------+----------------+-------------+-------------------+-------------------+---------------------+------------+------------------------+---------------------+----------------------------+-----------------+-------------+\n",
      "|802-17-3671| 22|Female|                         2|                   9|                                 2|                              12|                                 2|             1|               1|            3|                  5|                  9|                   No|           1|    Walking or Nature...|                    4|                          No|              Yes|            1|\n",
      "|871-12-8572| 25|Female|                         0|                  28|                                 0|                               6|                                 0|             1|               1|            1|                  2|                  9|                  Yes|           3|              Meditation|                    2|                         Yes|               No|            1|\n",
      "|495-13-2672| 24|Female|                         0|                  45|                                 3|                              12|                                10|             3|               3|            1|                  4|                  9|                  Yes|           5|                 Reading|                    1|                         Yes|              Yes|            3|\n",
      "|365-77-2496| 20|  Male|                         2|                   8|                                 7|                               7|                                 4|             1|               3|            2|                  5|                  1|                   No|           1|    Social Media Enga...|                    2|                         Yes|               No|            4|\n",
      "|664-76-5622| 28|  Male|                         0|                  14|                                 6|                               8|                                 1|             2|               4|            4|                  2|                  7|                  Yes|           1|                Exercise|                    1|                         Yes|               No|            3|\n",
      "+-----------+---+------+--------------------------+--------------------+----------------------------------+--------------------------------+----------------------------------+--------------+----------------+-------------+-------------------+-------------------+---------------------+------------+------------------------+---------------------+----------------------------+-----------------+-------------+\n",
      "only showing top 5 rows\n"
     ]
    }
   ],
   "source": [
    "# Read CSV files from HDFS and create DataFrames\n",
    "df_sample = spark.read.option(\"header\", True) \\\n",
    "    .option(\"inferSchema\", True) \\\n",
    "    .csv(\"hdfs://localhost:9000/data_input/dataset-1.csv\")\n",
    "\n",
    "df_esgi = spark.read.option(\"header\", True) \\\n",
    "    .option(\"inferSchema\", True) \\\n",
    "    .csv(\"hdfs://localhost:9000/data_input/dataset-2.csv\")\n",
    "\n",
    "# Cleaning column names\n",
    "df_sample = df_sample.toDF(*[c.strip() for c in df_sample.columns])\n",
    "df_esgi = df_esgi.toDF(*[c.strip() for c in df_esgi.columns])\n",
    "\n",
    "\n",
    "df_all = df_sample.unionByName(df_esgi)\n",
    "\n",
    "# Display the first 5 rows of sample dataset\n",
    "print(\"------------------------------------------------------------------------\")\n",
    "print(\"Preview of the first few rows :\")\n",
    "print(\"------------------------------------------------------------------------\\n\")\n",
    "df_all.show(5)"
   ]
  },
  {
   "cell_type": "markdown",
   "id": "66ad2861",
   "metadata": {},
   "source": [
    "<h2 style=\"font-weight:bold;color:#c27ba0\">Preprocessing and Exploratory Data Analysis</h2>"
   ]
  },
  {
   "cell_type": "code",
   "execution_count": 109,
   "id": "df92368e",
   "metadata": {},
   "outputs": [
    {
     "name": "stdout",
     "output_type": "stream",
     "text": [
      "------------------------------------------------------------------------\n",
      "Dimensions of dataframes :\n",
      "------------------------------------------------------------------------\n",
      "\n",
      "Rows :\n",
      "- Sample dataset : 760 rows\n",
      "- ESGI dataset : 174 rows\n",
      "- TOTAL ROWS : 934 rows\n",
      "\n",
      "Columns : \n",
      "- TOTAL COLUMNS : 20 columns\n"
     ]
    }
   ],
   "source": [
    "# Dimensions of the dataset\n",
    "print(\"------------------------------------------------------------------------\")\n",
    "print(\"Dimensions of dataframes :\")\n",
    "print(\"------------------------------------------------------------------------\\n\")\n",
    "\n",
    "print(\"Rows :\")\n",
    "print(f\"- Sample dataset : {df_sample.count()} rows\")\n",
    "print(f\"- ESGI dataset : {df_esgi.count()} rows\")\n",
    "print(f\"- TOTAL ROWS : {df_all.count()} rows\")\n",
    "\n",
    "print(f\"\\nColumns : \")\n",
    "print(f\"- TOTAL COLUMNS : {len(df_all.columns)} columns\")"
   ]
  },
  {
   "cell_type": "code",
   "execution_count": null,
   "id": "91992136",
   "metadata": {},
   "outputs": [
    {
     "name": "stdout",
     "output_type": "stream",
     "text": [
      "-----------------------------------------------------------------------------------\n",
      "Columns details :\n",
      "-----------------------------------------------------------------------------------\n",
      "\n",
      "NAME                                     TYPE       NULL VALUES     NON-NULL VALUES\n",
      "Age                                      int             0               934       \n",
      "Gender                                   int             0               934       \n",
      "Academic Performance (GPA)               int             0               934       \n",
      "Study Hours Per Week                     int             0               934       \n",
      "Social Media Usage (Hours per day)       int             0               934       \n",
      "Sleep Duration (Hours per night)         int             0               934       \n",
      "Physical Exercise (Hours per week)       int             0               934       \n",
      "Family Support                           int             0               934       \n",
      "Financial Stress                         int             0               934       \n",
      "Peer Pressure                            int             0               934       \n",
      "Relationship Stress                      int             0               934       \n",
      "Mental Stress Level                      int             0               934       \n",
      "Counseling Attendance                    int             0               934       \n",
      "Diet Quality                             int             0               934       \n",
      "Stress Coping Mechanisms                 int             0               934       \n",
      "Cognitive Distortions                    int             0               934       \n",
      "Family Mental Health History             int             0               934       \n",
      "Medical Condition                        int             0               934       \n",
      "Substance Use                            int             0               934       \n"
     ]
    }
   ],
   "source": [
    "# Columns details\n",
    "print(\"-----------------------------------------------------------------------------------\")\n",
    "print(\"Columns details :\")\n",
    "print(\"-----------------------------------------------------------------------------------\\n\")\n",
    "\n",
    "print(f\"{'NAME':<40} {'TYPE':<10} {'NULL VALUES':<15} {'NON-NULL VALUES':<10}\")\n",
    "\n",
    "for column, dtype in df_all.dtypes:\n",
    "    null_values = df_all.filter(col(column).isNull()).count()\n",
    "    non_null_values = df_all.filter(col(column).isNotNull()).count()\n",
    "    print(f\"{column:<40} {dtype:15} {null_values:<15} {non_null_values:<10}\")"
   ]
  },
  {
   "cell_type": "code",
   "execution_count": 143,
   "id": "d6c37681",
   "metadata": {},
   "outputs": [],
   "source": [
    "# Delete Student ID column\n",
    "df_sample = df_sample.drop(\"Student Id\")\n",
    "df_esgi = df_esgi.drop(\"Student Id\")\n",
    "df_all = df_all.drop(\"Student Id\")"
   ]
  },
  {
   "cell_type": "code",
   "execution_count": 144,
   "id": "3035c1d4",
   "metadata": {},
   "outputs": [],
   "source": [
    "# Converting string columns to numeric types : column with YES/NO values\n",
    "def yes_no_to_int(df, columns):\n",
    "    for column in columns:\n",
    "        if type(df.schema[column].dataType) != IntegerType:\n",
    "            df = df.withColumn(\n",
    "                column,\n",
    "                when(col(column) == \"Yes\", 1)\n",
    "                .when(col(column) == \"No\", 0)\n",
    "                .cast(IntegerType())\n",
    "            )\n",
    "    return df\n",
    "\n",
    "# Counselling, Family Mental Health History, Mental Condition | YES(1), NO(0)\n",
    "string_columns = [\"Counseling Attendance\", \"Family Mental Health History\", \"Medical Condition\"]\n",
    "df_sample = yes_no_to_int(df_sample, string_columns)\n",
    "df_esgi = yes_no_to_int(df_esgi, string_columns)\n",
    "df_all = yes_no_to_int(df_all, string_columns)"
   ]
  },
  {
   "cell_type": "code",
   "execution_count": 161,
   "id": "609e9982",
   "metadata": {},
   "outputs": [],
   "source": [
    "# Converting string columns to numeric types : columns with other values\n",
    "def other_value_to_int(df, columns):\n",
    "    for column in columns:\n",
    "        if type(df.schema[column].dataType) != IntegerType:\n",
    "            if column == \"Gender\":\n",
    "                df = df.withColumn(\n",
    "                    column,\n",
    "                    when(col(column) == \"Male\", 1)\n",
    "                    .when(col(column) == \"Female\", 0)\n",
    "                    .otherwise(2)\n",
    "                    .cast(IntegerType())\n",
    "                )\n",
    "\n",
    "            if column == \"Stress Coping Mechanisms\":\n",
    "                coping_values = [row[0] for row in df.select(\"Stress Coping Mechanisms\").distinct().collect()]\n",
    "                coping_dict = {mechanism: i for i, mechanism in enumerate(coping_values)}\n",
    "                \n",
    "                expr = None\n",
    "                for mechanism, value in coping_dict.items():\n",
    "                    expr = when(col(column) == mechanism, value)if expr is None else expr.when(col(column) == mechanism, value)\n",
    "                expr = expr.cast(IntegerType())\n",
    "                df = df.withColumn(column, expr)\n",
    "\n",
    "    return df\n",
    "\n",
    "# Gender | MALE(0), FEMALE(1), OTHER(2)\n",
    "# Stress Coping Mechanisms | SPENDING TIME ALONE(0), ...\n",
    "\n",
    "string_columns = [\"Gender\", \"Stress Coping Mechanisms\"]\n",
    "\n",
    "df_sample = other_value_to_int(df_sample, string_columns)\n",
    "df_esgi = other_value_to_int(df_esgi, string_columns)\n",
    "df_all = other_value_to_int(df_all, string_columns)"
   ]
  },
  {
   "cell_type": "code",
   "execution_count": null,
   "id": "fc80fec0",
   "metadata": {},
   "outputs": [
    {
     "name": "stdout",
     "output_type": "stream",
     "text": [
      "-----------------------------------------------------------------------------------\n",
      "Mental Stress Level :\n",
      "-----------------------------------------------------------------------------------\n",
      "\n"
     ]
    },
    {
     "data": {
      "image/png": "[encoded data removed]",
      "text/plain": [
       "<Figure size 1000x600 with 1 Axes>"
      ]
     },
     "metadata": {},
     "output_type": "display_data"
    }
   ],
   "source": [
    "# Mental Stress Level details\n",
    "print(\"-----------------------------------------------------------------------------------\")\n",
    "print(\"Mental Stress Level :\")\n",
    "print(\"-----------------------------------------------------------------------------------\\n\")\n",
    "\n",
    "\n",
    "# Distribution of Mental Stress Level\n",
    "stress_level_distrib = df_all.groupBy(\"Mental Stress Level\").count().sort(\"Mental Stress Level\").collect()\n",
    "\n",
    "levels = [row[\"Mental Stress Level\"] for row in stress_level_distrib]\n",
    "counts = [row[\"count\"] for row in stress_level_distrib]\n",
    "\n",
    "plt.figure(figsize=(10,6))\n",
    "sns.barplot(x=levels, y=counts, color=\"#a64d79\")\n",
    "plt.xlabel(\"Mental Stress Level\")\n",
    "plt.ylabel(\"Student count\")\n",
    "plt.title(\"Distribution of Mental Stress Level\")\n",
    "plt.show()"
   ]
  },
  {
   "cell_type": "code",
   "execution_count": 201,
   "id": "96e55367-b2e3-470d-b71b-52774d5f52fe",
   "metadata": {},
   "outputs": [
    {
     "name": "stdout",
     "output_type": "stream",
     "text": [
      "-----------------------------------------------------------------------------------\n",
      "Gender :\n",
      "-----------------------------------------------------------------------------------\n",
      "\n"
     ]
    },
    {
     "data": {
      "image/png": "[encoded data removed]",
      "text/plain": [
       "<Figure size 1000x600 with 1 Axes>"
      ]
     },
     "metadata": {},
     "output_type": "display_data"
    }
   ],
   "source": [
    "# Distribution of Gender\n",
    "\n",
    "print(\"-----------------------------------------------------------------------------------\")\n",
    "print(\"Gender :\")\n",
    "print(\"-----------------------------------------------------------------------------------\\n\")\n",
    "\n",
    "\n",
    "# Distribution of Gender\n",
    "gender_distrib = df_all.groupBy(\"Gender\").count().collect()\n",
    "    \n",
    "genders = [row[\"Gender\"] for row in gender_distrib]\n",
    "labels = [\"Male\" if gender == 0 else \"Female\" if gender == 1 else \"Other\" for gender in genders]\n",
    "counts = [row[\"count\"] for row in gender_distrib]\n",
    "\n",
    "plt.figure(figsize=(10,6))\n",
    "plt.pie(\n",
    "    counts, \n",
    "    labels=labels, \n",
    "    autopct='%1.1f%%',\n",
    "    startangle=140,\n",
    "    colors=[\"#a64d79\", \"#d6d6d6\", \"#e6c4d5\"]\n",
    ")\n",
    "plt.title(\"Distribution of Gender\")\n",
    "plt.show()\n"
   ]
  },
  {
   "cell_type": "code",
   "execution_count": null,
   "id": "b7d7ce0a-df7f-421d-9d67-cc39ca21b21f",
   "metadata": {},
   "outputs": [
    {
     "name": "stdout",
     "output_type": "stream",
     "text": [
      "+-----------------+------------------+----------+----------+-----------------+------------------+-----------------+\n",
      "|   Moyenne Stress| Écart-type Stress|Min Stress|Max Stress|  Moyenne Sommeil|   Moyenne Réseaux|      Moyenne GPA|\n",
      "+-----------------+------------------+----------+----------+-----------------+------------------+-----------------+\n",
      "|5.535331905781584|2.8254573176226927|         1|        10|8.028907922912206|4.1713062098501075|2.032119914346895|\n",
      "+-----------------+------------------+----------+----------+-----------------+------------------+-----------------+\n",
      "\n",
      "+-----------+-----+\n",
      "|     Gender|count|\n",
      "+-----------+-----+\n",
      "|Genderqueer|    7|\n",
      "|    Agender|   14|\n",
      "|     Female|  407|\n",
      "| Polygender|   12|\n",
      "|   Bigender|   16|\n",
      "| Non-binary|   10|\n",
      "|       Male|  430|\n",
      "|Genderfluid|   12|\n",
      "|      Autre|   26|\n",
      "+-----------+-----+\n",
      "\n",
      "Corrélation Stress ↔ Sommeil : 0.029504724894151107\n",
      "Corrélation Stress ↔ Réseaux Sociaux : 0.01628495726134644\n",
      "Corrélation GPA ↔ Sommeil : -0.011690663913766337\n",
      "+-----------+-----------------+\n",
      "|     Gender|     Stress moyen|\n",
      "+-----------+-----------------+\n",
      "|Genderqueer|4.571428571428571|\n",
      "|    Agender|6.214285714285714|\n",
      "|     Female|5.454545454545454|\n",
      "| Polygender|5.333333333333333|\n",
      "|   Bigender|             6.25|\n",
      "| Non-binary|              5.3|\n",
      "|       Male|5.511627906976744|\n",
      "|Genderfluid|5.416666666666667|\n",
      "|      Autre|6.884615384615385|\n",
      "+-----------+-----------------+\n",
      "\n"
     ]
    }
   ],
   "source": [
    "\n",
    "df_all.select(\n",
    "    avg(\"Mental Stress Level\").alias(\"Moyenne Stress\"),\n",
    "    stddev(\"Mental Stress Level\").alias(\"Écart-type Stress\"),\n",
    "    min(\"Mental Stress Level\").alias(\"Min Stress\"),\n",
    "    max(\"Mental Stress Level\").alias(\"Max Stress\"),\n",
    "    avg(\"Sleep Duration (Hours per night)\").alias(\"Moyenne Sommeil\"),\n",
    "    avg(\"Social Media Usage (Hours per day)\").alias(\"Moyenne Réseaux\"),\n",
    "    avg(\"Academic Performance (GPA)\").alias(\"Moyenne GPA\")\n",
    ").show()\n",
    "\n",
    "df_all.groupBy(\"Gender\").count().show()\n",
    "print(\"Corrélation Stress ↔ Sommeil :\", df_all.stat.corr(\"Mental Stress Level\", \"Sleep Duration (Hours per night)\"))\n",
    "print(\"Corrélation Stress ↔ Réseaux Sociaux :\", df_all.stat.corr(\"Mental Stress Level\", \"Social Media Usage (Hours per day)\"))\n",
    "print(\"Corrélation GPA ↔ Sommeil :\", df_all.stat.corr(\"Academic Performance (GPA)\", \"Sleep Duration (Hours per night)\"))\n",
    "df_all.groupBy(\"Gender\").agg(avg(\"Mental Stress Level\").alias(\"Stress moyen\")).show()"
   ]
  },
  {
   "cell_type": "code",
   "execution_count": null,
   "id": "c11a05b6-8675-49b9-a4cf-e92249e3e639",
   "metadata": {},
   "outputs": [],
   "source": [
    "pdf = df.toPandas()\n"
   ]
  },
  {
   "cell_type": "code",
   "execution_count": null,
   "id": "f57be2e7-3688-4f3d-b16e-efcd34457369",
   "metadata": {},
   "outputs": [],
   "source": [
    "print(\"Statistiques descriptives des variables numériques\")\n",
    "print(pdf.describe())"
   ]
  },
  {
   "cell_type": "code",
   "execution_count": null,
   "id": "7d78acd0-9ce9-433b-8545-c54e7272330e",
   "metadata": {},
   "outputs": [],
   "source": [
    "print(\"Valeurs uniques par colonne catégorielle\")\n",
    "cat_cols = pdf.select_dtypes(include=\"object\").columns\n",
    "\n",
    "for col in cat_cols:\n",
    "    print(f\"- {col} ({pdf[col].nunique()} valeurs uniques) : {pdf[col].unique()[:5]}\")"
   ]
  },
  {
   "cell_type": "code",
   "execution_count": null,
   "id": "18f3454a-204c-4d85-addf-006df2d0d78b",
   "metadata": {},
   "outputs": [],
   "source": [
    "plt.figure(figsize=(7, 5))\n",
    "sns.scatterplot(data=pdf, x=\"Family Support\", y=\"Mental Stress Level\", color=\"mediumseagreen\")\n",
    "sns.regplot(data=pdf, x=\"Family Support\", y=\"Mental Stress Level\", scatter=False, color=\"darkgreen\")\n",
    "plt.title(\"Soutien familial vs Stress mental\")\n",
    "plt.xlabel(\"Soutien familial (1 = faible, 5 = fort)\")\n",
    "plt.ylabel(\"Niveau de stress mental\")\n",
    "plt.tight_layout()\n",
    "plt.show()\n",
    "\n",
    "correlation = pdf[\"Family Support\"].corr(pdf[\"Mental Stress Level\"])\n",
    "print(f\"Corrélation entre le soutien familial et le stress : {correlation:.2f}\")"
   ]
  },
  {
   "cell_type": "code",
   "execution_count": null,
   "id": "4c879cc7-950b-4983-b4ad-11ce9c4d0d79",
   "metadata": {},
   "outputs": [],
   "source": [
    "plt.figure(figsize=(7, 5))\n",
    "sns.scatterplot(\n",
    "    data=pdf,\n",
    "    x=\"Sleep Duration (Hours per night)\",\n",
    "    y=\"Academic Performance (GPA)\",\n",
    "    color=\"mediumseagreen\"\n",
    ")\n",
    "sns.regplot(\n",
    "    data=pdf,\n",
    "    x=\"Sleep Duration (Hours per night)\",\n",
    "    y=\"Academic Performance (GPA)\",\n",
    "    scatter=False,\n",
    "    color=\"darkgreen\"\n",
    ")\n",
    "plt.title(\"Sommeil vs Performance académique (GPA)\")\n",
    "plt.xlabel(\"Durée de sommeil (heures/nuit)\")\n",
    "plt.ylabel(\"GPA (Performance académique)\")\n",
    "plt.tight_layout()\n",
    "plt.show()\n",
    "\n",
    "correlation = pdf[\"Sleep Duration (Hours per night)\"].corr(pdf[\"Academic Performance (GPA)\"])\n",
    "print(f\"Corrélation Sommeil ↔ GPA : {correlation:.2f}\")"
   ]
  },
  {
   "cell_type": "code",
   "execution_count": null,
   "id": "c9a2cc8f-f48d-415e-9214-493804ca144f",
   "metadata": {},
   "outputs": [],
   "source": [
    "plt.figure(figsize=(7, 5))\n",
    "sns.scatterplot(\n",
    "    data=pdf,\n",
    "    x=\"Physical Exercise (Hours per week)\",\n",
    "    y=\"Mental Stress Level\",\n",
    "    color=\"mediumseagreen\"\n",
    ")\n",
    "sns.regplot(\n",
    "    data=pdf,\n",
    "    x=\"Physical Exercise (Hours per week)\",\n",
    "    y=\"Mental Stress Level\",\n",
    "    scatter=False,\n",
    "    color=\"darkgreen\"\n",
    ")\n",
    "plt.title(\"Activité physique vs Stress mental\")\n",
    "plt.xlabel(\"Activité physique (heures/semaine)\")\n",
    "plt.ylabel(\"Niveau de stress mental\")\n",
    "plt.tight_layout()\n",
    "plt.show()\n",
    "\n",
    "correlation = pdf[\"Physical Exercise (Hours per week)\"].corr(pdf[\"Mental Stress Level\"])\n",
    "print(f\"Corrélation Activité physique ↔ Stress mental : {correlation:.2f}\")\n"
   ]
  },
  {
   "cell_type": "code",
   "execution_count": null,
   "id": "f72d6a7f-1b9a-4046-96ac-4f1f8f1f6849",
   "metadata": {},
   "outputs": [],
   "source": [
    "plt.figure(figsize=(7, 5))\n",
    "sns.scatterplot(\n",
    "    data=pdf,\n",
    "    x=\"Social Media Usage (Hours per day)\",\n",
    "    y=\"Mental Stress Level\",\n",
    "    color=\"mediumseagreen\"\n",
    ")\n",
    "sns.regplot(\n",
    "    data=pdf,\n",
    "    x=\"Social Media Usage (Hours per day)\",\n",
    "    y=\"Mental Stress Level\",\n",
    "    scatter=False,\n",
    "    color=\"darkgreen\"\n",
    ")\n",
    "plt.title(\"Temps passé sur les réseaux sociaux vs Stress mental\")\n",
    "plt.xlabel(\"Usage des réseaux (heures/jour)\")\n",
    "plt.ylabel(\"Niveau de stress mental\")\n",
    "plt.tight_layout()\n",
    "plt.show()\n",
    "\n",
    "correlation = pdf[\"Social Media Usage (Hours per day)\"].corr(pdf[\"Mental Stress Level\"])\n",
    "print(f\"Corrélation Réseaux Sociaux ↔ Stress mental : {correlation:.2f}\")"
   ]
  },
  {
   "cell_type": "code",
   "execution_count": null,
   "id": "3ad8e8c2-897d-4757-b5d4-6f953a614202",
   "metadata": {},
   "outputs": [],
   "source": [
    "correlation_matrix = pdf.corr(numeric_only=True)\n",
    "\n",
    "plt.figure(figsize=(12, 8))\n",
    "sns.heatmap(correlation_matrix, annot=True, fmt=\".2f\", cmap=\"coolwarm\", square=True)\n",
    "plt.title(\"Matrice de corrélation entre variables\")\n",
    "plt.tight_layout()\n",
    "plt.show()"
   ]
  },
  {
   "cell_type": "code",
   "execution_count": null,
   "id": "29b00a39-140d-4c84-8944-fa5fe89ff59e",
   "metadata": {},
   "outputs": [],
   "source": [
    "cor_stress = correlation_matrix[\"Mental Stress Level\"].drop(\"Mental Stress Level\")\n",
    "\n",
    "plt.figure(figsize=(8, 5))\n",
    "cor_stress.sort_values().plot(kind='barh', color='mediumseagreen')\n",
    "plt.title(\"Corrélation avec le stress mental\")\n",
    "plt.xlabel(\"Coefficient de corrélation\")\n",
    "plt.tight_layout()\n",
    "plt.show()"
   ]
  },
  {
   "cell_type": "code",
   "execution_count": null,
   "id": "dede4c1c-9be5-4355-a7e5-6de156cb4055",
   "metadata": {},
   "outputs": [],
   "source": [
    "coping_table = pd.crosstab(pdf[\"Stress Coping Mechanisms\"], pdf[\"Gender\"])\n",
    "print(coping_table)\n",
    "\n",
    "strategies = coping_table.index.tolist()\n",
    "x = np.arange(len(strategies))\n",
    "width = 0.35\n",
    "\n",
    "plt.figure(figsize=(12, 6))\n",
    "plt.bar(x - width/2, coping_table[\"Female\"], width, label='Femmes', color='mediumseagreen')\n",
    "plt.bar(x + width/2, coping_table[\"Male\"], width, label='Hommes', color='darkgreen')\n",
    "\n",
    "plt.xticks(x, strategies, rotation=45, ha='right')\n",
    "plt.title(\"Stratégies de coping par genre\")\n",
    "plt.xlabel(\"Stratégie de coping\")\n",
    "plt.ylabel(\"Nombre de participants\")\n",
    "plt.legend()\n",
    "plt.tight_layout()\n",
    "plt.show()"
   ]
  },
  {
   "cell_type": "code",
   "execution_count": null,
   "id": "939dab76-3812-4cfd-9ce0-f3228bf1b0bc",
   "metadata": {},
   "outputs": [],
   "source": [
    "correlation = pdf[\"Sleep Duration (Hours per night)\"].corr(pdf[\"Academic Performance (GPA)\"])\n",
    "print(f\"Corrélation Sommeil ↔ GPA : {correlation:.2f}\")\n",
    "\n",
    "plt.figure(figsize=(7, 5))\n",
    "sns.scatterplot(\n",
    "    data=pdf,\n",
    "    x=\"Sleep Duration (Hours per night)\",\n",
    "    y=\"Academic Performance (GPA)\",\n",
    "    color=\"mediumseagreen\"\n",
    ")\n",
    "sns.regplot(\n",
    "    data=pdf,\n",
    "    x=\"Sleep Duration (Hours per night)\",\n",
    "    y=\"Academic Performance (GPA)\",\n",
    "    scatter=False,\n",
    "    color=\"darkgreen\"\n",
    ")\n",
    "plt.title(\"Sommeil vs Performance académique (GPA)\")\n",
    "plt.xlabel(\"Durée de sommeil (heures/nuit)\")\n",
    "plt.ylabel(\"GPA (Performance académique)\")\n",
    "plt.tight_layout()\n",
    "plt.show()"
   ]
  }
 ],
 "metadata": {
  "kernelspec": {
   "display_name": "Python 3",
   "language": "python",
   "name": "python3"
  },
  "language_info": {
   "codemirror_mode": {
    "name": "ipython",
    "version": 3
   },
   "file_extension": ".py",
   "mimetype": "text/x-python",
   "name": "python",
   "nbconvert_exporter": "python",
   "pygments_lexer": "ipython3",
   "version": "3.12.3"
  }
 },
 "nbformat": 4,
 "nbformat_minor": 5
}
